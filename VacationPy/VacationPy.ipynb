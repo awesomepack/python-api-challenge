{
 "cells": [
  {
   "cell_type": "markdown",
   "metadata": {},
   "source": [
    "# VacationPy\n",
    "----\n",
    "\n",
    "#### Note\n",
    "* Keep an eye on your API usage. Use https://developers.google.com/maps/reporting/gmp-reporting as reference for how to monitor your usage and billing.\n",
    "\n",
    "* Instructions have been included for each segment. You do not have to follow them exactly, but they are included to help you think through the steps."
   ]
  },
  {
   "cell_type": "code",
   "execution_count": 2,
   "metadata": {},
   "outputs": [],
   "source": [
    "# Dependencies and Setup\n",
    "import matplotlib.pyplot as plt\n",
    "import pandas as pd\n",
    "import numpy as np\n",
    "import requests\n",
    "import gmaps\n",
    "import os\n",
    "\n",
    "# Import API key\n",
    "from api_keys import g_key"
   ]
  },
  {
   "cell_type": "markdown",
   "metadata": {},
   "source": [
    "### Store Part I results into DataFrame\n",
    "* Load the csv exported in Part I to a DataFrame"
   ]
  },
  {
   "cell_type": "code",
   "execution_count": 3,
   "metadata": {},
   "outputs": [
    {
     "output_type": "execute_result",
     "data": {
      "text/plain": [
       "           City_Name  Longitude  Lattitude  Temperature  Humidity  Cloudiness  \\\n",
       "0           Katsuura   140.3000    35.1333        74.25        86         100   \n",
       "1            Srostki    85.7022    52.4189        46.85        90          54   \n",
       "2          ‘Āhuimanu  -157.8378    21.4447        83.05        57          20   \n",
       "3  São João da Barra   -41.0511   -21.6403        71.08        74          10   \n",
       "4      Leningradskiy   178.4167    69.3833        51.84        48          96   \n",
       "\n",
       "   Wind Speed  \n",
       "0        9.51  \n",
       "1        3.71  \n",
       "2        8.05  \n",
       "3       12.12  \n",
       "4        2.04  "
      ],
      "text/html": "<div>\n<style scoped>\n    .dataframe tbody tr th:only-of-type {\n        vertical-align: middle;\n    }\n\n    .dataframe tbody tr th {\n        vertical-align: top;\n    }\n\n    .dataframe thead th {\n        text-align: right;\n    }\n</style>\n<table border=\"1\" class=\"dataframe\">\n  <thead>\n    <tr style=\"text-align: right;\">\n      <th></th>\n      <th>City_Name</th>\n      <th>Longitude</th>\n      <th>Lattitude</th>\n      <th>Temperature</th>\n      <th>Humidity</th>\n      <th>Cloudiness</th>\n      <th>Wind Speed</th>\n    </tr>\n  </thead>\n  <tbody>\n    <tr>\n      <th>0</th>\n      <td>Katsuura</td>\n      <td>140.3000</td>\n      <td>35.1333</td>\n      <td>74.25</td>\n      <td>86</td>\n      <td>100</td>\n      <td>9.51</td>\n    </tr>\n    <tr>\n      <th>1</th>\n      <td>Srostki</td>\n      <td>85.7022</td>\n      <td>52.4189</td>\n      <td>46.85</td>\n      <td>90</td>\n      <td>54</td>\n      <td>3.71</td>\n    </tr>\n    <tr>\n      <th>2</th>\n      <td>‘Āhuimanu</td>\n      <td>-157.8378</td>\n      <td>21.4447</td>\n      <td>83.05</td>\n      <td>57</td>\n      <td>20</td>\n      <td>8.05</td>\n    </tr>\n    <tr>\n      <th>3</th>\n      <td>São João da Barra</td>\n      <td>-41.0511</td>\n      <td>-21.6403</td>\n      <td>71.08</td>\n      <td>74</td>\n      <td>10</td>\n      <td>12.12</td>\n    </tr>\n    <tr>\n      <th>4</th>\n      <td>Leningradskiy</td>\n      <td>178.4167</td>\n      <td>69.3833</td>\n      <td>51.84</td>\n      <td>48</td>\n      <td>96</td>\n      <td>2.04</td>\n    </tr>\n  </tbody>\n</table>\n</div>"
     },
     "metadata": {},
     "execution_count": 3
    }
   ],
   "source": [
    "cities_df = pd.read_csv('../WeatherPy/City_Data.csv');\n",
    "cities_df.head(5)"
   ]
  },
  {
   "cell_type": "markdown",
   "metadata": {},
   "source": [
    "### Humidity Heatmap\n",
    "* Configure gmaps.\n",
    "* Use the Lat and Lng as locations and Humidity as the weight.\n",
    "* Add Heatmap layer to map."
   ]
  },
  {
   "cell_type": "code",
   "execution_count": 4,
   "metadata": {},
   "outputs": [
    {
     "output_type": "display_data",
     "data": {
      "text/plain": "Figure(layout=FigureLayout(height='420px'))",
      "application/vnd.jupyter.widget-view+json": {
       "version_major": 2,
       "version_minor": 0,
       "model_id": "0eca849cbd2d46e4aa2ad8b5c79fa615"
      }
     },
     "metadata": {}
    }
   ],
   "source": [
    "#Configuring gmaps\n",
    "gmaps.configure(api_key=g_key);\n",
    "\n",
    "Locations = cities_df[['Lattitude' , 'Longitude']];\n",
    "weights = cities_df['Humidity'];\n",
    "\n",
    "#Generating the gmaps figure\n",
    "fig = gmaps.figure()\n",
    "fig.add_layer(gmaps.heatmap_layer(Locations , weights=weights))\n",
    "fig"
   ]
  },
  {
   "cell_type": "code",
   "execution_count": 12,
   "metadata": {},
   "outputs": [
    {
     "output_type": "execute_result",
     "data": {
      "text/plain": [
       "78.2186"
      ]
     },
     "metadata": {},
     "execution_count": 12
    }
   ],
   "source": []
  },
  {
   "cell_type": "markdown",
   "metadata": {},
   "source": [
    "### Create new DataFrame fitting weather criteria\n",
    "* Narrow down the cities to fit weather conditions.\n",
    "* Drop any rows will null values."
   ]
  },
  {
   "cell_type": "code",
   "execution_count": 29,
   "metadata": {},
   "outputs": [
    {
     "output_type": "stream",
     "name": "stdout",
     "text": [
      "10\n"
     ]
    }
   ],
   "source": [
    "#subsetting dataframe on the basis of temperature\n",
    "less_80 = cities_df[cities_df['Temperature'] < 80 ];\n",
    "great_70 = less_80[less_80['Temperature'] > 70];\n",
    "\n",
    "#Filtering out cities with wind speed greater than 10 mph\n",
    "pass_wind = great_70[great_70['Wind Speed'] < 10];\n",
    "\n",
    "#Finding cities with zero cloudiness\n",
    "hotel_df = pass_wind[pass_wind['Cloudiness'] == 0];\n",
    "\n",
    "#determining the number of cities that fit our criteria\n",
    "print(len(hotel_df));"
   ]
  },
  {
   "cell_type": "markdown",
   "metadata": {},
   "source": [
    "### Hotel Map\n",
    "* Store into variable named `hotel_df`.\n",
    "* Add a \"Hotel Name\" column to the DataFrame.\n",
    "* Set parameters to search for hotels with 5000 meters.\n",
    "* Hit the Google Places API for each city's coordinates.\n",
    "* Store the first Hotel result into the DataFrame.\n",
    "* Plot markers on top of the heatmap."
   ]
  },
  {
   "cell_type": "code",
   "execution_count": 97,
   "metadata": {},
   "outputs": [],
   "source": [
    "#renaming 'City_Name' column to 'City'\n",
    "hotel_columns = [col for col in hotel_df.columns]\n",
    "hotel_columns[0] = 'City'\n",
    "hotel_df.columns = hotel_columns;"
   ]
  },
  {
   "cell_type": "code",
   "execution_count": 76,
   "metadata": {},
   "outputs": [
    {
     "output_type": "execute_result",
     "data": {
      "text/plain": [
       "['-23.4436,-51.8739',\n",
       " '43.4,5.05',\n",
       " '31.6315,-8.0083',\n",
       " '29.5833,-9.5',\n",
       " '-9.6658,-35.7353',\n",
       " '-12.974,40.5178',\n",
       " '40.2747,18.3368',\n",
       " '22.6906,58.5334',\n",
       " '36.9559,36.2',\n",
       " '31.61,34.7642']"
      ]
     },
     "metadata": {},
     "execution_count": 76
    }
   ],
   "source": [
    "#Formatting lat and long values from hotel_df to fit the api call model\n",
    "latitudes = [str(lat) for lat in hotel_df['Lattitude']];\n",
    "longitudes = [str(lon) for lon in hotel_df['Longitude']];\n",
    "geo_coordinates = [latitudes[i] +','+ longitudes[i] for i in range(0 , len(latitudes))];"
   ]
  },
  {
   "cell_type": "code",
   "execution_count": 78,
   "metadata": {},
   "outputs": [],
   "source": [
    "\n",
    "base_url = \"https://maps.googleapis.com/maps/api/place/nearbysearch/json\"\n",
    "\n",
    "Request = []; #stores api requests\n",
    "\n",
    "#looping through geo_cooordinates to make succesive calls to google places\n",
    "for coord in geo_coordinates:\n",
    "\n",
    "    #Searching for nearest hotel \n",
    "    target_coordinates = coord\n",
    "    target_search = 'Hotel'\n",
    "    target_radius = 5000\n",
    "    target_type = 'lodging'\n",
    "\n",
    "    #parameter dictionary\n",
    "    params = {\n",
    "        'location': target_coordinates,\n",
    "        'keyword': target_search,\n",
    "        'radius': target_radius,\n",
    "        'type':target_type,\n",
    "        'key': g_key\n",
    "            }\n",
    "    Request.append(requests.get(base_url , params=params));\n",
    "    "
   ]
  },
  {
   "cell_type": "code",
   "execution_count": 106,
   "metadata": {},
   "outputs": [],
   "source": [
    "#Converting Requests into Json\n",
    "search_result = [req.json() for req in Request];\n",
    "\n",
    "#Storing Hotel names in a list to be added to hotel_df\n",
    "Hotel_Names = [];\n",
    "for result in search_result:\n",
    "\n",
    "    try:\n",
    "        Hotel_Names.append(result['results'][0]['name'])\n",
    "    except:\n",
    "        Hotel_Names.append('No Result');\n",
    "\n"
   ]
  },
  {
   "cell_type": "code",
   "execution_count": 110,
   "metadata": {},
   "outputs": [
    {
     "output_type": "stream",
     "name": "stderr",
     "text": [
      "<ipython-input-110-8c17a3250f8d>:1: SettingWithCopyWarning: \nA value is trying to be set on a copy of a slice from a DataFrame.\nTry using .loc[row_indexer,col_indexer] = value instead\n\nSee the caveats in the documentation: https://pandas.pydata.org/pandas-docs/stable/user_guide/indexing.html#returning-a-view-versus-a-copy\n  hotel_df['Hotel_Name'] = Hotel_Names;\n"
     ]
    },
    {
     "output_type": "execute_result",
     "data": {
      "text/plain": [
       "                City  Longitude  Lattitude  Temperature  Humidity  Cloudiness  \\\n",
       "110          Sarandi   -51.8739   -23.4436        72.95        64           0   \n",
       "138        Martigues     5.0500    43.4000        70.50        68           0   \n",
       "175        Marrakesh    -8.0083    31.6315        78.87        50           0   \n",
       "202  Tiznit Province    -9.5000    29.5833        70.83        49           0   \n",
       "245           Maceió   -35.7353    -9.6658        74.64        78           0   \n",
       "266            Pemba    40.5178   -12.9740        75.18        70           0   \n",
       "284       Melendugno    18.3368    40.2747        77.38        78           0   \n",
       "303            Ibrā’    58.5334    22.6906        79.09        59           0   \n",
       "324            Erzin    36.2000    36.9559        75.02        80           0   \n",
       "426       Kiryat Gat    34.7642    31.6100        74.88        74           0   \n",
       "\n",
       "     Wind Speed Hotel Name                           Hotel_Name  \n",
       "110        6.91                     Hotel Caiuá Express Maringá  \n",
       "138        3.44                         Inter Hotel Clair Hotel  \n",
       "175        4.61                  Sofitel Marrakech Lounge & Spa  \n",
       "202        1.14                                       No Result  \n",
       "245        3.44                          Jatiúca Hotel & Resort  \n",
       "266        9.95                         Avani Pemba Beach Hotel  \n",
       "284        6.91                           La Casina di Borgagne  \n",
       "303        3.02                                      Ibra Hotel  \n",
       "324        0.72             Hattusa Vacation Thermal Club Erzin  \n",
       "426        2.01                                       No Result  "
      ],
      "text/html": "<div>\n<style scoped>\n    .dataframe tbody tr th:only-of-type {\n        vertical-align: middle;\n    }\n\n    .dataframe tbody tr th {\n        vertical-align: top;\n    }\n\n    .dataframe thead th {\n        text-align: right;\n    }\n</style>\n<table border=\"1\" class=\"dataframe\">\n  <thead>\n    <tr style=\"text-align: right;\">\n      <th></th>\n      <th>City</th>\n      <th>Longitude</th>\n      <th>Lattitude</th>\n      <th>Temperature</th>\n      <th>Humidity</th>\n      <th>Cloudiness</th>\n      <th>Wind Speed</th>\n      <th>Hotel Name</th>\n      <th>Hotel_Name</th>\n    </tr>\n  </thead>\n  <tbody>\n    <tr>\n      <th>110</th>\n      <td>Sarandi</td>\n      <td>-51.8739</td>\n      <td>-23.4436</td>\n      <td>72.95</td>\n      <td>64</td>\n      <td>0</td>\n      <td>6.91</td>\n      <td></td>\n      <td>Hotel Caiuá Express Maringá</td>\n    </tr>\n    <tr>\n      <th>138</th>\n      <td>Martigues</td>\n      <td>5.0500</td>\n      <td>43.4000</td>\n      <td>70.50</td>\n      <td>68</td>\n      <td>0</td>\n      <td>3.44</td>\n      <td></td>\n      <td>Inter Hotel Clair Hotel</td>\n    </tr>\n    <tr>\n      <th>175</th>\n      <td>Marrakesh</td>\n      <td>-8.0083</td>\n      <td>31.6315</td>\n      <td>78.87</td>\n      <td>50</td>\n      <td>0</td>\n      <td>4.61</td>\n      <td></td>\n      <td>Sofitel Marrakech Lounge &amp; Spa</td>\n    </tr>\n    <tr>\n      <th>202</th>\n      <td>Tiznit Province</td>\n      <td>-9.5000</td>\n      <td>29.5833</td>\n      <td>70.83</td>\n      <td>49</td>\n      <td>0</td>\n      <td>1.14</td>\n      <td></td>\n      <td>No Result</td>\n    </tr>\n    <tr>\n      <th>245</th>\n      <td>Maceió</td>\n      <td>-35.7353</td>\n      <td>-9.6658</td>\n      <td>74.64</td>\n      <td>78</td>\n      <td>0</td>\n      <td>3.44</td>\n      <td></td>\n      <td>Jatiúca Hotel &amp; Resort</td>\n    </tr>\n    <tr>\n      <th>266</th>\n      <td>Pemba</td>\n      <td>40.5178</td>\n      <td>-12.9740</td>\n      <td>75.18</td>\n      <td>70</td>\n      <td>0</td>\n      <td>9.95</td>\n      <td></td>\n      <td>Avani Pemba Beach Hotel</td>\n    </tr>\n    <tr>\n      <th>284</th>\n      <td>Melendugno</td>\n      <td>18.3368</td>\n      <td>40.2747</td>\n      <td>77.38</td>\n      <td>78</td>\n      <td>0</td>\n      <td>6.91</td>\n      <td></td>\n      <td>La Casina di Borgagne</td>\n    </tr>\n    <tr>\n      <th>303</th>\n      <td>Ibrā’</td>\n      <td>58.5334</td>\n      <td>22.6906</td>\n      <td>79.09</td>\n      <td>59</td>\n      <td>0</td>\n      <td>3.02</td>\n      <td></td>\n      <td>Ibra Hotel</td>\n    </tr>\n    <tr>\n      <th>324</th>\n      <td>Erzin</td>\n      <td>36.2000</td>\n      <td>36.9559</td>\n      <td>75.02</td>\n      <td>80</td>\n      <td>0</td>\n      <td>0.72</td>\n      <td></td>\n      <td>Hattusa Vacation Thermal Club Erzin</td>\n    </tr>\n    <tr>\n      <th>426</th>\n      <td>Kiryat Gat</td>\n      <td>34.7642</td>\n      <td>31.6100</td>\n      <td>74.88</td>\n      <td>74</td>\n      <td>0</td>\n      <td>2.01</td>\n      <td></td>\n      <td>No Result</td>\n    </tr>\n  </tbody>\n</table>\n</div>"
     },
     "metadata": {},
     "execution_count": 110
    }
   ],
   "source": [
    "hotel_df['Hotel_Name'] = Hotel_Names;\n",
    "hotel_df"
   ]
  },
  {
   "cell_type": "code",
   "execution_count": 114,
   "metadata": {},
   "outputs": [
    {
     "output_type": "error",
     "ename": "KeyError",
     "evalue": "'Country'",
     "traceback": [
      "\u001b[1;31m---------------------------------------------------------------------------\u001b[0m",
      "\u001b[1;31mKeyError\u001b[0m                                  Traceback (most recent call last)",
      "\u001b[1;32m<ipython-input-114-e10edb61063c>\u001b[0m in \u001b[0;36m<module>\u001b[1;34m\u001b[0m\n\u001b[0;32m     11\u001b[0m \u001b[1;31m# Store the DataFrame Row\u001b[0m\u001b[1;33m\u001b[0m\u001b[1;33m\u001b[0m\u001b[1;33m\u001b[0m\u001b[0m\n\u001b[0;32m     12\u001b[0m \u001b[1;31m# NOTE: be sure to update with your DataFrame name\u001b[0m\u001b[1;33m\u001b[0m\u001b[1;33m\u001b[0m\u001b[1;33m\u001b[0m\u001b[0m\n\u001b[1;32m---> 13\u001b[1;33m \u001b[0mhotel_info\u001b[0m \u001b[1;33m=\u001b[0m \u001b[1;33m[\u001b[0m\u001b[0minfo_box_template\u001b[0m\u001b[1;33m.\u001b[0m\u001b[0mformat\u001b[0m\u001b[1;33m(\u001b[0m\u001b[1;33m**\u001b[0m\u001b[0mrow\u001b[0m\u001b[1;33m)\u001b[0m \u001b[1;32mfor\u001b[0m \u001b[0mindex\u001b[0m\u001b[1;33m,\u001b[0m \u001b[0mrow\u001b[0m \u001b[1;32min\u001b[0m \u001b[0mhotel_df\u001b[0m\u001b[1;33m.\u001b[0m\u001b[0miterrows\u001b[0m\u001b[1;33m(\u001b[0m\u001b[1;33m)\u001b[0m\u001b[1;33m]\u001b[0m\u001b[1;33m\u001b[0m\u001b[1;33m\u001b[0m\u001b[0m\n\u001b[0m\u001b[0;32m     14\u001b[0m \u001b[0mlocations\u001b[0m \u001b[1;33m=\u001b[0m \u001b[0mhotel_df\u001b[0m\u001b[1;33m[\u001b[0m\u001b[1;33m[\u001b[0m\u001b[1;34m\"Lng\"\u001b[0m\u001b[1;33m,\u001b[0m \u001b[1;34m\"Ltt\"\u001b[0m\u001b[1;33m]\u001b[0m\u001b[1;33m]\u001b[0m\u001b[1;33m\u001b[0m\u001b[1;33m\u001b[0m\u001b[0m\n",
      "\u001b[1;32m<ipython-input-114-e10edb61063c>\u001b[0m in \u001b[0;36m<listcomp>\u001b[1;34m(.0)\u001b[0m\n\u001b[0;32m     11\u001b[0m \u001b[1;31m# Store the DataFrame Row\u001b[0m\u001b[1;33m\u001b[0m\u001b[1;33m\u001b[0m\u001b[1;33m\u001b[0m\u001b[0m\n\u001b[0;32m     12\u001b[0m \u001b[1;31m# NOTE: be sure to update with your DataFrame name\u001b[0m\u001b[1;33m\u001b[0m\u001b[1;33m\u001b[0m\u001b[1;33m\u001b[0m\u001b[0m\n\u001b[1;32m---> 13\u001b[1;33m \u001b[0mhotel_info\u001b[0m \u001b[1;33m=\u001b[0m \u001b[1;33m[\u001b[0m\u001b[0minfo_box_template\u001b[0m\u001b[1;33m.\u001b[0m\u001b[0mformat\u001b[0m\u001b[1;33m(\u001b[0m\u001b[1;33m**\u001b[0m\u001b[0mrow\u001b[0m\u001b[1;33m)\u001b[0m \u001b[1;32mfor\u001b[0m \u001b[0mindex\u001b[0m\u001b[1;33m,\u001b[0m \u001b[0mrow\u001b[0m \u001b[1;32min\u001b[0m \u001b[0mhotel_df\u001b[0m\u001b[1;33m.\u001b[0m\u001b[0miterrows\u001b[0m\u001b[1;33m(\u001b[0m\u001b[1;33m)\u001b[0m\u001b[1;33m]\u001b[0m\u001b[1;33m\u001b[0m\u001b[1;33m\u001b[0m\u001b[0m\n\u001b[0m\u001b[0;32m     14\u001b[0m \u001b[0mlocations\u001b[0m \u001b[1;33m=\u001b[0m \u001b[0mhotel_df\u001b[0m\u001b[1;33m[\u001b[0m\u001b[1;33m[\u001b[0m\u001b[1;34m\"Lng\"\u001b[0m\u001b[1;33m,\u001b[0m \u001b[1;34m\"Ltt\"\u001b[0m\u001b[1;33m]\u001b[0m\u001b[1;33m]\u001b[0m\u001b[1;33m\u001b[0m\u001b[1;33m\u001b[0m\u001b[0m\n",
      "\u001b[1;31mKeyError\u001b[0m: 'Country'"
     ]
    }
   ],
   "source": [
    "# NOTE: Do not change any of the code in this cell\n",
    "\n",
    "# Using the template add the hotel marks to the heatmap\n",
    "info_box_template = \"\"\"\n",
    "<dl>\n",
    "<dt>Name</dt><dd>{Hotel Name}</dd>\n",
    "<dt>City</dt><dd>{City}</dd>\n",
    "<dt>Country</dt><dd>{Country}</dd>\n",
    "</dl>\n",
    "\"\"\"\n",
    "# Store the DataFrame Row\n",
    "# NOTE: be sure to update with your DataFrame name      #Contradictory instruction\n",
    "hotel_info = [info_box_template.format(**row) for index, row in hotel_df.iterrows()]\n",
    "locations = hotel_df[[\"Lng\", \"Ltt\"]]"
   ]
  },
  {
   "cell_type": "code",
   "execution_count": 118,
   "metadata": {},
   "outputs": [
    {
     "output_type": "display_data",
     "data": {
      "text/plain": "Figure(layout=FigureLayout(height='420px'))",
      "application/vnd.jupyter.widget-view+json": {
       "version_major": 2,
       "version_minor": 0,
       "model_id": "0eca849cbd2d46e4aa2ad8b5c79fa615"
      }
     },
     "metadata": {}
    }
   ],
   "source": [
    "# Add marker layer ontop of heat map\n",
    "Hotel_Locations = hotel_df[['Lattitude' , 'Longitude']];\n",
    "fig.add_layer(gmaps.marker_layer(locations=Hotel_Locations))\n",
    "\n",
    "# Display figure\n",
    "fig"
   ]
  },
  {
   "cell_type": "code",
   "execution_count": null,
   "metadata": {},
   "outputs": [],
   "source": []
  }
 ],
 "metadata": {
  "kernelspec": {
   "name": "python3",
   "display_name": "Python 3.8.8 64-bit ('base': conda)"
  },
  "language_info": {
   "codemirror_mode": {
    "name": "ipython",
    "version": 3
   },
   "file_extension": ".py",
   "mimetype": "text/x-python",
   "name": "python",
   "nbconvert_exporter": "python",
   "pygments_lexer": "ipython3",
   "version": "3.8.8"
  },
  "latex_envs": {
   "LaTeX_envs_menu_present": true,
   "autoclose": false,
   "autocomplete": true,
   "bibliofile": "biblio.bib",
   "cite_by": "apalike",
   "current_citInitial": 1,
   "eqLabelWithNumbers": true,
   "eqNumInitial": 1,
   "hotkeys": {
    "equation": "Ctrl-E",
    "itemize": "Ctrl-I"
   },
   "labels_anchors": false,
   "latex_user_defs": false,
   "report_style_numbering": false,
   "user_envs_cfg": false
  },
  "interpreter": {
   "hash": "d0612af51d520778623e3976a8283ab01d740464dfd1d7760c60614b40f0e147"
  }
 },
 "nbformat": 4,
 "nbformat_minor": 4
}