{
 "metadata": {
  "language_info": {
   "codemirror_mode": {
    "name": "ipython",
    "version": 3
   },
   "file_extension": ".py",
   "mimetype": "text/x-python",
   "name": "python",
   "nbconvert_exporter": "python",
   "pygments_lexer": "ipython3",
   "version": "3.8.8"
  },
  "orig_nbformat": 4,
  "kernelspec": {
   "name": "python3",
   "display_name": "Python 3.8.8 64-bit ('base': conda)"
  },
  "interpreter": {
   "hash": "d0612af51d520778623e3976a8283ab01d740464dfd1d7760c60614b40f0e147"
  }
 },
 "nbformat": 4,
 "nbformat_minor": 2,
 "cells": [
  {
   "cell_type": "code",
   "execution_count": 1,
   "metadata": {},
   "outputs": [],
   "source": [
    "#Importing Dependencies\n",
    "from citipy import citipy\n",
    "import requests\n",
    "import json\n",
    "import numpy as np\n",
    "from api_keys import Open_Weather_Key \n",
    "import csv\n",
    "import pandas as pd"
   ]
  },
  {
   "source": [
    "# TO DO:\n",
    "* Figure out how to use the citypy library in conjunction with the openweather API to retrieve your dataset\n",
    "* Create scatter plot in which [Temperature , Humidity , Wind Speed , and cloudiness] are plotted against lattitude"
   ],
   "cell_type": "markdown",
   "metadata": {}
  },
  {
   "cell_type": "code",
   "execution_count": 2,
   "metadata": {},
   "outputs": [
    {
     "output_type": "stream",
     "name": "stdout",
     "text": [
      "608\n"
     ]
    }
   ],
   "source": [
    "#Generate a list of random geo coordinates\n",
    "longitude = np.random.uniform(-180 , 180 , size = 1500);#right\n",
    "lattitude = np.random.uniform(-90 , 90 , size = 1500);#left\n",
    "geo_coordinates = [lattitude , longitude];\n",
    "\n",
    "\n",
    "#Generating a list of cities\n",
    "cities = [citipy.nearest_city(geo_coordinates[0][i] , geo_coordinates[1][i]) for i in range(0 , len(geo_coordinates[0]))];\n",
    "\n",
    "#Removing duplicates from cities and converting it into a list\n",
    "cities = list(set(cities));\n",
    "\n",
    "#checking we have the requisite number of unique cities\n",
    "print(len(cities));\n",
    "\n",
    "#citpy.nearest_city() receives long and lat values as arguements and returns the nearest city\n",
    "#we can write a function that generates a list of 600 unique cities\n"
   ]
  },
  {
   "cell_type": "code",
   "execution_count": 3,
   "metadata": {},
   "outputs": [],
   "source": [
    "\n",
    "\n",
    "#Building request url for one call to the API\n",
    "key = f'&appid={Open_Weather_Key}';\n",
    "base = 'http://api.openweathermap.org/data/2.5/weather?';\n",
    "\n",
    "#Generating list of urls to make API calls\n",
    "urls = [base + f'q={cit.city_name}&units=imperial' + key for cit in cities]\n",
    "\n",
    "#Genarating a list of request objects\n",
    "Requests = [requests.get(url) for url in urls];\n",
    "\n",
    "#Converting responses to json\n",
    "city_response = [req.json() for req in Requests];\n",
    "\n",
    "#Extracting target metrics from each json object\n",
    "\n",
    "\n",
    "#Converting the request objects into json format\n",
    "#weather_calls = [req.json() for req in requests];\n",
    "\n",
    "\n",
    "\n",
    "# # Requesting Weather from San Diego\n",
    "# weather_request = requests.get(url);\n",
    "\n",
    "# # Converting response object to Json\n",
    "# weather_json = weather_request.json();\n",
    "# #print(json.dumps(weather_json , indent=4));\n",
    "\n",
    "# #We need to collect the following metrics for each city [longitude , lattitude , wind speed (mph) , Temperature (F) , Humidity (%) , Cloudiness (%)]\n",
    "\n",
    "# #Collecting longitude and lattitude values (in key = 'coord)\n",
    "# curr_lon = weather_json['coord']['lon'];\n",
    "# curr_lat = weather_json['coord']['lat'];\n",
    "\n",
    "# curr_wind = weather_json['wind']['speed'];\n",
    "# curr_clouds = weather_json['clouds']['all'];\n",
    "# curr_temp = weather_json['main']['temp']; \n",
    "# curr_hum = weather_json['main']['humidity'];\n",
    "\n",
    "#Write information to CSV\n",
    "#All collected info of a city should be one row"
   ]
  },
  {
   "cell_type": "code",
   "execution_count": 58,
   "metadata": {
    "tags": []
   },
   "outputs": [],
   "source": [
    "\n",
    "#Storing Target metrics for each city , skipping over cities that were not found\n",
    "city_array = [];\n",
    "for cit in city_response:\n",
    "    try:\n",
    "        city_metrics = [cit['name'] , cit['main']['temp'] , cit['main']['humidity'] , cit['clouds']['all'] , cit['wind']['speed']];\n",
    "        city_array.append(city_metrics);\n",
    "\n",
    "    except:\n",
    "        continue\n",
    "\n"
   ]
  },
  {
   "cell_type": "code",
   "execution_count": 59,
   "metadata": {},
   "outputs": [],
   "source": [
    "#Practice writing to a csv file\n",
    "#We are going to want to store each city_row as a list that contains the target metrics of that city\n",
    "#As an example our Heaader would be:\n",
    "\n",
    "Header = ['City_Name' ,'Temperature' , 'Humidity' , 'Cloudiness' , 'Wind Speed'];\n",
    "\n",
    "#inserting header into city arrays to be printed out in a csv\n",
    "city_array.insert(0 , Header)\n",
    "\n",
    "#Writing out csv_export to a csv file\n",
    "with open('City_Data.csv' , 'w' , encoding='UTF8' , newline= '') as file:\n",
    "\n",
    "    writer = csv.writer(file);\n",
    "\n",
    "    for i in city_array:\n",
    "\n",
    "        writer.writerow(i);\n",
    "\n"
   ]
  },
  {
   "cell_type": "code",
   "execution_count": 60,
   "metadata": {},
   "outputs": [
    {
     "output_type": "execute_result",
     "data": {
      "text/plain": [
       "           City_Name  Temperature  Humidity  Cloudiness  Wind Speed\n",
       "0           Katsuura        74.25        86         100        9.51\n",
       "1            Srostki        46.85        90          54        3.71\n",
       "2          ‘Āhuimanu        83.05        57          20        8.05\n",
       "3  São João da Barra        71.08        74          10       12.12\n",
       "4      Leningradskiy        51.84        48          96        2.04"
      ],
      "text/html": "<div>\n<style scoped>\n    .dataframe tbody tr th:only-of-type {\n        vertical-align: middle;\n    }\n\n    .dataframe tbody tr th {\n        vertical-align: top;\n    }\n\n    .dataframe thead th {\n        text-align: right;\n    }\n</style>\n<table border=\"1\" class=\"dataframe\">\n  <thead>\n    <tr style=\"text-align: right;\">\n      <th></th>\n      <th>City_Name</th>\n      <th>Temperature</th>\n      <th>Humidity</th>\n      <th>Cloudiness</th>\n      <th>Wind Speed</th>\n    </tr>\n  </thead>\n  <tbody>\n    <tr>\n      <th>0</th>\n      <td>Katsuura</td>\n      <td>74.25</td>\n      <td>86</td>\n      <td>100</td>\n      <td>9.51</td>\n    </tr>\n    <tr>\n      <th>1</th>\n      <td>Srostki</td>\n      <td>46.85</td>\n      <td>90</td>\n      <td>54</td>\n      <td>3.71</td>\n    </tr>\n    <tr>\n      <th>2</th>\n      <td>‘Āhuimanu</td>\n      <td>83.05</td>\n      <td>57</td>\n      <td>20</td>\n      <td>8.05</td>\n    </tr>\n    <tr>\n      <th>3</th>\n      <td>São João da Barra</td>\n      <td>71.08</td>\n      <td>74</td>\n      <td>10</td>\n      <td>12.12</td>\n    </tr>\n    <tr>\n      <th>4</th>\n      <td>Leningradskiy</td>\n      <td>51.84</td>\n      <td>48</td>\n      <td>96</td>\n      <td>2.04</td>\n    </tr>\n  </tbody>\n</table>\n</div>"
     },
     "metadata": {},
     "execution_count": 60
    }
   ],
   "source": [
    "#read in csv file and store as data frame\n",
    "cities_df = pd.read_csv('City_Data.csv');\n",
    "cities_df.head(5)"
   ]
  },
  {
   "cell_type": "code",
   "execution_count": null,
   "metadata": {},
   "outputs": [],
   "source": []
  }
 ]
}