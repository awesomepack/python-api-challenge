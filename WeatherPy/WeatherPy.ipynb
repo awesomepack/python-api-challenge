{
 "metadata": {
  "language_info": {
   "codemirror_mode": {
    "name": "ipython",
    "version": 3
   },
   "file_extension": ".py",
   "mimetype": "text/x-python",
   "name": "python",
   "nbconvert_exporter": "python",
   "pygments_lexer": "ipython3",
   "version": "3.8.8"
  },
  "orig_nbformat": 4,
  "kernelspec": {
   "name": "python3",
   "display_name": "Python 3.8.8 64-bit ('base': conda)"
  },
  "interpreter": {
   "hash": "d0612af51d520778623e3976a8283ab01d740464dfd1d7760c60614b40f0e147"
  }
 },
 "nbformat": 4,
 "nbformat_minor": 2,
 "cells": [
  {
   "cell_type": "code",
   "execution_count": 2,
   "metadata": {},
   "outputs": [],
   "source": [
    "#Importing Dependencies\n",
    "from citipy import citipy\n",
    "import requests\n",
    "import json\n",
    "from api_keys import Open_Weather_Key "
   ]
  },
  {
   "source": [
    "# TO DO:\n",
    "* Figure out how to use the citypy library in conjunction with the openweather API to retrieve your dataset\n",
    "* Create scatter plot in which [Temperature , Humidity , Wind Speed , and cloudiness] are plotted against lattitude"
   ],
   "cell_type": "markdown",
   "metadata": {}
  },
  {
   "cell_type": "code",
   "execution_count": 6,
   "metadata": {},
   "outputs": [
    {
     "output_type": "execute_result",
     "data": {
      "text/plain": [
       "'dikson'"
      ]
     },
     "metadata": {},
     "execution_count": 6
    }
   ],
   "source": [
    "#Practice using the citipy\n",
    "city = citipy.nearest_city(100 , 85.4);\n",
    "city_name = city.city_name;\n",
    "city_name\n",
    "\n",
    "\n",
    "#citpy.nearest_city() receives long and latt values as arguements and returns the nearest city\n",
    "#we can write a function that generates a list of 1000 random cities in the world using the citipy library.citipy\n",
    "#How can we maximize the representation of cities from across the globe?\n",
    "#Consider coordinates that are inhabited?\n"
   ]
  },
  {
   "cell_type": "code",
   "execution_count": 4,
   "metadata": {},
   "outputs": [
    {
     "output_type": "stream",
     "name": "stdout",
     "text": [
      "{\n    \"coord\": {\n        \"lon\": -117.1573,\n        \"lat\": 32.7153\n    },\n    \"weather\": [\n        {\n            \"id\": 803,\n            \"main\": \"Clouds\",\n            \"description\": \"broken clouds\",\n            \"icon\": \"04n\"\n        }\n    ],\n    \"base\": \"stations\",\n    \"main\": {\n        \"temp\": 292.9,\n        \"feels_like\": 293.1,\n        \"temp_min\": 290.79,\n        \"temp_max\": 297.07,\n        \"pressure\": 1010,\n        \"humidity\": 83\n    },\n    \"visibility\": 10000,\n    \"wind\": {\n        \"speed\": 0.89,\n        \"deg\": 293,\n        \"gust\": 3.13\n    },\n    \"clouds\": {\n        \"all\": 75\n    },\n    \"dt\": 1624420509,\n    \"sys\": {\n        \"type\": 2,\n        \"id\": 2010977,\n        \"country\": \"US\",\n        \"sunrise\": 1624365691,\n        \"sunset\": 1624417190\n    },\n    \"timezone\": -25200,\n    \"id\": 5391811,\n    \"name\": \"San Diego\",\n    \"cod\": 200\n}\n"
     ]
    }
   ],
   "source": [
    "#Practice using the Open Weather API to retrieve weather information on mulitple cities\n",
    "Cities = ['San Diego' , 'San Jose' , 'Los Angeles'];\n",
    "\n",
    "#Building request url for one call to the API\n",
    "url = 'http://api.openweathermap.org/data/2.5/weather?q=San Diego&appid=6063a3f89ec7c2a09ec16b4f2e283e32'\n",
    "\n",
    "#Requesting Weather from San Diego\n",
    "weather_request = requests.get(url);\n",
    "\n",
    "#Converting response object to Json\n",
    "weather_json = weather_request.json();\n",
    "\n",
    "print(json.dumps(weather_json , indent=4));"
   ]
  },
  {
   "cell_type": "code",
   "execution_count": null,
   "metadata": {},
   "outputs": [],
   "source": []
  }
 ]
}