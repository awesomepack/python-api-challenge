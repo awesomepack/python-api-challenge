{
 "metadata": {
  "language_info": {
   "codemirror_mode": {
    "name": "ipython",
    "version": 3
   },
   "file_extension": ".py",
   "mimetype": "text/x-python",
   "name": "python",
   "nbconvert_exporter": "python",
   "pygments_lexer": "ipython3",
   "version": "3.8.8"
  },
  "orig_nbformat": 4,
  "kernelspec": {
   "name": "python3",
   "display_name": "Python 3.8.8 64-bit ('base': conda)"
  },
  "interpreter": {
   "hash": "d0612af51d520778623e3976a8283ab01d740464dfd1d7760c60614b40f0e147"
  }
 },
 "nbformat": 4,
 "nbformat_minor": 2,
 "cells": [
  {
   "cell_type": "code",
   "execution_count": 26,
   "metadata": {},
   "outputs": [],
   "source": [
    "#Importing Dependencies\n",
    "from citipy import citipy\n",
    "import requests\n",
    "import json\n",
    "import numpy as np\n",
    "from api_keys import Open_Weather_Key \n",
    "import csv\n",
    "import pandas as pd"
   ]
  },
  {
   "source": [
    "# TO DO:\n",
    "* Figure out how to use the citypy library in conjunction with the openweather API to retrieve your dataset\n",
    "* Create scatter plot in which [Temperature , Humidity , Wind Speed , and cloudiness] are plotted against lattitude"
   ],
   "cell_type": "markdown",
   "metadata": {}
  },
  {
   "cell_type": "code",
   "execution_count": 2,
   "metadata": {},
   "outputs": [
    {
     "output_type": "stream",
     "name": "stdout",
     "text": [
      "619\n"
     ]
    }
   ],
   "source": [
    "#Generate a list of random geo coordinates\n",
    "longitude = np.random.uniform(-180 , 180 , size = 1500);#right\n",
    "lattitude = np.random.uniform(-90 , 90 , size = 1500);#left\n",
    "geo_coordinates = [lattitude , longitude];\n",
    "\n",
    "\n",
    "#Generating a list of cities\n",
    "cities = [citipy.nearest_city(geo_coordinates[0][i] , geo_coordinates[1][i]) for i in range(0 , len(geo_coordinates[0]))];\n",
    "\n",
    "#Removing duplicates from cities and converting it into a list\n",
    "cities = list(set(cities));\n",
    "\n",
    "#checking we have the requisite number of unique cities\n",
    "print(len(cities));\n",
    "\n",
    "#citpy.nearest_city() receives long and lat values as arguements and returns the nearest city\n",
    "#we can write a function that generates a list of 600 unique cities\n"
   ]
  },
  {
   "cell_type": "code",
   "execution_count": 6,
   "metadata": {},
   "outputs": [],
   "source": [
    "\n",
    "\n",
    "#Building request url for one call to the API\n",
    "key = f'&appid={Open_Weather_Key}';\n",
    "base = 'http://api.openweathermap.org/data/2.5/weather?';\n",
    "\n",
    "#Generating list of urls to make API calls\n",
    "urls = [base + f'q={cit.city_name}&units=imperial' + key for cit in cities]\n",
    "\n",
    "#Genarating a list of request objects\n",
    "Requests = [requests.get(url) for url in urls];\n",
    "\n",
    "#Converting responses to json\n",
    "city_response = [req.json() for req in Requests];\n",
    "\n",
    "#Extracting target metrics from each json object\n",
    "\n",
    "\n",
    "#Converting the request objects into json format\n",
    "#weather_calls = [req.json() for req in requests];\n",
    "\n",
    "\n",
    "\n",
    "# # Requesting Weather from San Diego\n",
    "# weather_request = requests.get(url);\n",
    "\n",
    "# # Converting response object to Json\n",
    "# weather_json = weather_request.json();\n",
    "# #print(json.dumps(weather_json , indent=4));\n",
    "\n",
    "# #We need to collect the following metrics for each city [longitude , lattitude , wind speed (mph) , Temperature (F) , Humidity (%) , Cloudiness (%)]\n",
    "\n",
    "# #Collecting longitude and lattitude values (in key = 'coord)\n",
    "# curr_lon = weather_json['coord']['lon'];\n",
    "# curr_lat = weather_json['coord']['lat'];\n",
    "\n",
    "# curr_wind = weather_json['wind']['speed'];\n",
    "# curr_clouds = weather_json['clouds']['all'];\n",
    "# curr_temp = weather_json['main']['temp']; \n",
    "# curr_hum = weather_json['main']['humidity'];\n",
    "\n",
    "#Write information to CSV\n",
    "#All collected info of a city should be one row"
   ]
  },
  {
   "cell_type": "code",
   "execution_count": 40,
   "metadata": {
    "tags": []
   },
   "outputs": [
    {
     "output_type": "execute_result",
     "data": {
      "text/plain": [
       "{'cod': '404', 'message': 'city not found'}"
      ]
     },
     "metadata": {},
     "execution_count": 40
    }
   ],
   "source": [
    "city_response[1]\n",
    "\n",
    "#Storing Target metrics for each city\n",
    "#city_rows = [[resp['name'], resp['wind']['speed'] , resp['clouds']['all'] , resp['main']['temp'] , resp['main']['humidity']]  for resp in city_response];"
   ]
  },
  {
   "cell_type": "code",
   "execution_count": null,
   "metadata": {},
   "outputs": [],
   "source": [
    "#Practice writing to a csv file\n",
    "#We are going to want to store each city_row as a list that contains the target metrics of that city\n",
    "#As an example our Heaader would be:\n",
    "Header = ['City_Name' , 'Longitude' , 'Lattitude' ,'Temperature' , 'Humidity' , 'Cloudiness' , 'Wind Speed'];\n",
    "row = [Cities[0] , curr_lon , curr_lat , curr_temp , curr_hum , curr_clouds , curr_wind];\n",
    "\n",
    "#Storing csv rows in a list\n",
    "csv_export = [Header , row];\n",
    "\n",
    "#Writing out csv_export to a csv file\n",
    "with open('City_Data.csv' , 'w' , encoding='UTF8') as file:\n",
    "\n",
    "    writer = csv.writer(file);\n",
    "\n",
    "    for i in csv_export:\n",
    "\n",
    "        writer.writerow(i);\n",
    "\n"
   ]
  },
  {
   "cell_type": "code",
   "execution_count": 5,
   "metadata": {},
   "outputs": [
    {
     "output_type": "execute_result",
     "data": {
      "text/plain": [
       "9.179175730029149"
      ]
     },
     "metadata": {},
     "execution_count": 5
    }
   ],
   "source": []
  }
 ]
}